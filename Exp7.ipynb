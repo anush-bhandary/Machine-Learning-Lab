{
 "cells": [
  {
   "cell_type": "code",
   "execution_count": 4,
   "id": "82c66ecb-5eaa-4654-808b-9392fbaf379c",
   "metadata": {},
   "outputs": [
    {
     "name": "stdout",
     "output_type": "stream",
     "text": [
      "Accuracy: 0.8348868175765646\n",
      "                        precision    recall  f1-score   support\n",
      "\n",
      "           alt.atheism       0.97      0.60      0.74       319\n",
      "         comp.graphics       0.96      0.89      0.92       389\n",
      "               sci.med       0.97      0.81      0.88       396\n",
      "soc.religion.christian       0.65      0.99      0.78       398\n",
      "\n",
      "              accuracy                           0.83      1502\n",
      "             macro avg       0.89      0.82      0.83      1502\n",
      "          weighted avg       0.88      0.83      0.84      1502\n",
      "\n",
      "Text: Atheism ia a belief system that rejects the existence of Deities.\n",
      "Predicted Category: alt.atheism\n",
      "\n",
      "Text: The Bible contains teachings and stories that are Foundational to Christianity\n",
      "Predicted Category: soc.religion.christian\n",
      "\n",
      "Text: The latest research in medicine shows promising results.\n",
      "Predicted Category: sci.med\n",
      "\n",
      "Text: I'm having trouble with my graphics card, can anyone help?\n",
      "Predicted Category: comp.graphics\n",
      "\n"
     ]
    }
   ],
   "source": [
    "# Demonstrate the Text Classifier using Naive Bayes classifier Algorithm.\n",
    "\n",
    "from sklearn.datasets import fetch_20newsgroups\n",
    "from sklearn.feature_extraction.text import TfidfVectorizer\n",
    "from sklearn.naive_bayes import MultinomialNB\n",
    "from sklearn.pipeline import make_pipeline\n",
    "from sklearn.metrics import classification_report, accuracy_score\n",
    "from sklearn.model_selection import train_test_split\n",
    "import joblib\n",
    "\n",
    "# Load the 20 Newsgroups dataset\n",
    "categories = ['alt.atheism', 'soc.religion.christian', 'comp.graphics', 'sci.med']\n",
    "train_data = fetch_20newsgroups(subset='train', categories=categories, shuffle=True, random_state=42)\n",
    "test_data = fetch_20newsgroups(subset='test', categories=categories, shuffle=True, random_state=42)\n",
    "\n",
    "# Create a pipeline: TF-IDF vectorizer and Multinomial Naive Bayes classifier\n",
    "model = make_pipeline(\n",
    "    TfidfVectorizer(),\n",
    "    MultinomialNB()\n",
    ")\n",
    "\n",
    "# Train the model\n",
    "model.fit(train_data.data, train_data.target)\n",
    "\n",
    "# Predict on test data\n",
    "predicted = model.predict(test_data.data)\n",
    "\n",
    "# Evaluate the model\n",
    "print(\"Accuracy:\", accuracy_score(test_data.target, predicted))\n",
    "print(classification_report(test_data.target, predicted, target_names=test_data.target_names))\n",
    "\n",
    "# Make a new text prediction\n",
    "new_text = [\n",
    "    \"Atheism ia a belief system that rejects the existence of Deities.\",\n",
    "    \"The Bible contains teachings and stories that are Foundational to Christianity\",\n",
    "    \"The latest research in medicine shows promising results.\",\n",
    "    \"I'm having trouble with my graphics card, can anyone help?\"\n",
    "]\n",
    "\n",
    "# Use the trained model to predict the category of the new text\n",
    "new_predicted = model.predict(new_text)\n",
    "\n",
    "# Print the predictions\n",
    "for text, prediction in zip(new_text, new_predicted):\n",
    "    print(f\"Text: {text}\")\n",
    "    print(f\"Predicted Category: {train_data.target_names[prediction]}\")\n",
    "    print()\n"
   ]
  },
  {
   "cell_type": "code",
   "execution_count": null,
   "id": "6e4d3bd6-5d91-4df5-afec-7ca625ba5b1d",
   "metadata": {},
   "outputs": [],
   "source": []
  }
 ],
 "metadata": {
  "kernelspec": {
   "display_name": "Python 3 (ipykernel)",
   "language": "python",
   "name": "python3"
  },
  "language_info": {
   "codemirror_mode": {
    "name": "ipython",
    "version": 3
   },
   "file_extension": ".py",
   "mimetype": "text/x-python",
   "name": "python",
   "nbconvert_exporter": "python",
   "pygments_lexer": "ipython3",
   "version": "3.12.4"
  }
 },
 "nbformat": 4,
 "nbformat_minor": 5
}
