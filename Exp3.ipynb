{
 "cells": [
  {
   "cell_type": "code",
   "execution_count": 8,
   "id": "6bcc39d0-187d-4d34-9c96-2f0573e241e1",
   "metadata": {},
   "outputs": [
    {
     "name": "stdout",
     "output_type": "stream",
     "text": [
      "Cleaned, Integrated, and Transformed Data:\n",
      "   customer_id      name   age               email  order_id  product_id  \\\n",
      "0            1     anush  30.0     anush@gmail.com       101         201   \n",
      "1            2   harthik  25.0   harthik@gmail.com       102         202   \n",
      "2            3  shashank  40.0  shashank@gmail.com       103         203   \n",
      "3            4  prasanna  32.5  prasanna@gmail.com       104         204   \n",
      "4            5   adithya  35.0                 N/A       105         205   \n",
      "\n",
      "   quantity product_name  price  total_price  \n",
      "0         2       Laptop   1000         2000  \n",
      "1         1        Mouse     20           20  \n",
      "2         3     Keyboard     50          150  \n",
      "3         2      Monitor    300          600  \n",
      "4         1      Printer    200          200  \n"
     ]
    },
    {
     "name": "stderr",
     "output_type": "stream",
     "text": [
      "C:\\Users\\Anush Bhandary\\AppData\\Local\\Temp\\ipykernel_24168\\360897273.py:38: FutureWarning: A value is trying to be set on a copy of a DataFrame or Series through chained assignment using an inplace method.\n",
      "The behavior will change in pandas 3.0. This inplace method will never work because the intermediate object on which we are setting values always behaves as a copy.\n",
      "\n",
      "For example, when doing 'df[col].method(value, inplace=True)', try using 'df.method({col: value}, inplace=True)' or df[col] = df[col].method(value) instead, to perform the operation inplace on the original object.\n",
      "\n",
      "\n",
      "  customers_df['age'].fillna(customers_df['age'].mean(), inplace=True)\n",
      "C:\\Users\\Anush Bhandary\\AppData\\Local\\Temp\\ipykernel_24168\\360897273.py:39: FutureWarning: A value is trying to be set on a copy of a DataFrame or Series through chained assignment using an inplace method.\n",
      "The behavior will change in pandas 3.0. This inplace method will never work because the intermediate object on which we are setting values always behaves as a copy.\n",
      "\n",
      "For example, when doing 'df[col].method(value, inplace=True)', try using 'df.method({col: value}, inplace=True)' or df[col] = df[col].method(value) instead, to perform the operation inplace on the original object.\n",
      "\n",
      "\n",
      "  customers_df['email'].fillna('N/A', inplace=True)\n"
     ]
    }
   ],
   "source": [
    "# Demonstrate Data Preprocessing, Data Cleaning, Data Integration and Transformation activity on suitable data.\n",
    "\n",
    "import pandas as pd\n",
    "\n",
    "# Define the customers data\n",
    "customers_data = {\n",
    "    'customer_id': [1, 2, 3, 4, 5],\n",
    "    'name': ['anush', 'harthik', 'shashank', 'prasanna', 'adithya'],\n",
    "    'age': [30, 25, 40, None, 35],\n",
    "    'email': ['anush@gmail.com', 'harthik@gmail.com', 'shashank@gmail.com', 'prasanna@gmail.com', None]\n",
    "}\n",
    "\n",
    "# Define the orders data\n",
    "orders_data = {\n",
    "    'order_id': [101, 102, 103, 104, 105],\n",
    "    'customer_id': [1, 2, 3, 4, 5],\n",
    "    'product_id': [201, 202, 203, 204, 205],\n",
    "    'quantity': [2, 1, 3, 2, 1]\n",
    "}\n",
    "\n",
    "# Define the products data\n",
    "products_data = {\n",
    "    'product_id': [201, 202, 203, 204, 205],\n",
    "    'product_name': ['Laptop', 'Mouse', 'Keyboard', 'Monitor', 'Printer'],\n",
    "    'price': [1000, 20, 50, 300, 200]\n",
    "}\n",
    "\n",
    "# Create DataFrame for customers\n",
    "customers_df = pd.DataFrame(customers_data)\n",
    "\n",
    "# Create DataFrame for orders\n",
    "orders_df = pd.DataFrame(orders_data)\n",
    "\n",
    "# Create DataFrame for products\n",
    "products_df = pd.DataFrame(products_data)\n",
    "\n",
    "# Handle missing values in customers DataFrame\n",
    "customers_df['age'].fillna(customers_df['age'].mean(), inplace=True)\n",
    "customers_df['email'].fillna('N/A', inplace=True)\n",
    "\n",
    "# Merge customers, orders, and products DataFrames\n",
    "merged_df = pd.merge(pd.merge(customers_df, orders_df, on='customer_id'), products_df, on='product_id')\n",
    "\n",
    "# Calculate total price for each order\n",
    "merged_df['total_price'] = merged_df['quantity'] * merged_df['price']\n",
    "\n",
    "# Print the cleaned, integrated, and transformed data\n",
    "print(\"Cleaned, Integrated, and Transformed Data:\")\n",
    "print(merged_df)\n"
   ]
  },
  {
   "cell_type": "code",
   "execution_count": null,
   "id": "197701dc-0fe0-4edc-8261-969178872c24",
   "metadata": {},
   "outputs": [],
   "source": []
  }
 ],
 "metadata": {
  "kernelspec": {
   "display_name": "Python 3 (ipykernel)",
   "language": "python",
   "name": "python3"
  },
  "language_info": {
   "codemirror_mode": {
    "name": "ipython",
    "version": 3
   },
   "file_extension": ".py",
   "mimetype": "text/x-python",
   "name": "python",
   "nbconvert_exporter": "python",
   "pygments_lexer": "ipython3",
   "version": "3.12.4"
  }
 },
 "nbformat": 4,
 "nbformat_minor": 5
}
