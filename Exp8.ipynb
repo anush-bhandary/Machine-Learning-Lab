{
 "cells": [
  {
   "cell_type": "code",
   "execution_count": 12,
   "id": "03f34773-3a9c-43cd-8ac2-80b5d4e5f668",
   "metadata": {},
   "outputs": [
    {
     "name": "stdout",
     "output_type": "stream",
     "text": [
      "Accuracy: 0.77\n",
      "Classification Report:\n",
      "              precision    recall  f1-score   support\n",
      "\n",
      "           0       0.83      0.80      0.81        99\n",
      "           1       0.66      0.71      0.68        55\n",
      "\n",
      "    accuracy                           0.77       154\n",
      "   macro avg       0.75      0.75      0.75       154\n",
      "weighted avg       0.77      0.77      0.77       154\n",
      "\n",
      "Prediction: {'No Diabetes'}\n"
     ]
    },
    {
     "name": "stderr",
     "output_type": "stream",
     "text": [
      "C:\\Users\\Anush Bhandary\\AppData\\Roaming\\Python\\Python312\\site-packages\\sklearn\\base.py:493: UserWarning: X does not have valid feature names, but GaussianNB was fitted with feature names\n",
      "  warnings.warn(\n"
     ]
    }
   ],
   "source": [
    "# Implement the Naive Bayesian for the sample Training dataset stored as a .csv file.\n",
    "\n",
    "import pandas as pd\n",
    "from sklearn.model_selection import train_test_split\n",
    "from sklearn.naive_bayes import GaussianNB\n",
    "from sklearn.metrics import accuracy_score, classification_report\n",
    "\n",
    "# Step 1: Load the dataset\n",
    "def load_dataset(filename, target_column):\n",
    "    df = pd.read_csv(filename)\n",
    "    X = df.drop(columns=[target_column])\n",
    "    y = df[target_column]\n",
    "    return X, y\n",
    "\n",
    "# Step 2: Train the Naive Bayes classifier\n",
    "def train_naive_bayes(X_train, y_train):\n",
    "    model = GaussianNB()\n",
    "    model.fit(X_train, y_train)\n",
    "    return model\n",
    "\n",
    "# Step 3: Evaluate the model\n",
    "def evaluate_model(model, X_test, y_test):\n",
    "    y_pred = model.predict(X_test)\n",
    "    accuracy = accuracy_score(y_test, y_pred)\n",
    "    report = classification_report(y_test, y_pred)\n",
    "    return accuracy, report\n",
    "\n",
    "# Step 4: Predict for a new sample\n",
    "def predict_sample(model, sample):\n",
    "    prediction = model.predict([sample])\n",
    "    return \"Diabetes\" if prediction[0] == 1 else \"No Diabetes\"\n",
    "\n",
    "# Example usage\n",
    "if __name__ == \"__main__\":\n",
    "    # Load dataset and prepare data\n",
    "    filename = 'C:/pima_indian.csv'  # Replace with your CSV filename\n",
    "    target_column = 'diabetes'  # Replace with your target column name\n",
    "    X, y = load_dataset(filename, target_column)\n",
    "    \n",
    "    # Split data into training and testing sets\n",
    "    X_train, X_test, y_train, y_test = train_test_split(X, y, test_size=0.2, random_state=42)\n",
    "    \n",
    "    # Train the Naive Bayes classifier\n",
    "    model = train_naive_bayes(X_train, y_train)\n",
    "    \n",
    "    # Evaluate the model\n",
    "    accuracy, report = evaluate_model(model, X_test, y_test)\n",
    "    \n",
    "    # Output results\n",
    "    print(f'Accuracy: {accuracy:.2f}')\n",
    "    print('Classification Report:')\n",
    "    print(report)\n",
    "    \n",
    "    # Example prediction for a new sample\n",
    "    new_sample = [1, 85, 66, 29, 0, 26.6, 0.351, 31]  # Example of a new sample (you can replace with your own values)\n",
    "    prediction = predict_sample(model, new_sample)\n",
    "    print(f\"Prediction:\",{prediction})"
   ]
  },
  {
   "cell_type": "code",
   "execution_count": null,
   "id": "8c1b3fc0-ae2c-41fd-b391-fd3092708388",
   "metadata": {},
   "outputs": [],
   "source": []
  }
 ],
 "metadata": {
  "kernelspec": {
   "display_name": "Python 3 (ipykernel)",
   "language": "python",
   "name": "python3"
  },
  "language_info": {
   "codemirror_mode": {
    "name": "ipython",
    "version": 3
   },
   "file_extension": ".py",
   "mimetype": "text/x-python",
   "name": "python",
   "nbconvert_exporter": "python",
   "pygments_lexer": "ipython3",
   "version": "3.12.4"
  }
 },
 "nbformat": 4,
 "nbformat_minor": 5
}
